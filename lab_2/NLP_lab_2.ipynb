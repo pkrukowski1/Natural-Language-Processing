{
  "cells": [
    {
      "cell_type": "markdown",
      "metadata": {
        "id": "HC2xIhn_w9kT"
      },
      "source": [
        "# NLP - lab 2"
      ]
    },
    {
      "cell_type": "markdown",
      "metadata": {
        "id": "vdQdNytJxqMr"
      },
      "source": [
        "**1. Install ElasticSearch (ES).**"
      ]
    },
    {
      "cell_type": "markdown",
      "metadata": {},
      "source": [
        "Firstly we are going to install and setup ElasticSearch."
      ]
    },
    {
      "cell_type": "code",
      "execution_count": 3,
      "metadata": {
        "colab": {
          "base_uri": "https://localhost:8080/"
        },
        "id": "oHQQAfw23Ltf",
        "outputId": "7ac224fe-791b-460f-aeaf-8320aaa39f64"
      },
      "outputs": [
        {
          "name": "stdout",
          "output_type": "stream",
          "text": [
            "Looking in indexes: https://pypi.org/simple, https://us-python.pkg.dev/colab-wheels/public/simple/\n",
            "Collecting elasticsearch==7.10.0\n",
            "  Downloading elasticsearch-7.10.0-py2.py3-none-any.whl (321 kB)\n",
            "\u001b[K     |████████████████████████████████| 321 kB 7.2 MB/s \n",
            "\u001b[?25hRequirement already satisfied: certifi in /usr/local/lib/python3.7/dist-packages (from elasticsearch==7.10.0) (2022.9.24)\n",
            "Requirement already satisfied: urllib3<2,>=1.21.1 in /usr/local/lib/python3.7/dist-packages (from elasticsearch==7.10.0) (1.24.3)\n",
            "Installing collected packages: elasticsearch\n",
            "Successfully installed elasticsearch-7.10.0\n",
            "Looking in indexes: https://pypi.org/simple, https://us-python.pkg.dev/colab-wheels/public/simple/\n",
            "Collecting elasticsearch_dsl\n",
            "  Downloading elasticsearch_dsl-7.4.0-py2.py3-none-any.whl (63 kB)\n",
            "\u001b[K     |████████████████████████████████| 63 kB 2.1 MB/s \n",
            "\u001b[?25hRequirement already satisfied: six in /usr/local/lib/python3.7/dist-packages (from elasticsearch_dsl) (1.15.0)\n",
            "Requirement already satisfied: python-dateutil in /usr/local/lib/python3.7/dist-packages (from elasticsearch_dsl) (2.8.2)\n",
            "Requirement already satisfied: elasticsearch<8.0.0,>=7.0.0 in /usr/local/lib/python3.7/dist-packages (from elasticsearch_dsl) (7.10.0)\n",
            "Requirement already satisfied: urllib3<2,>=1.21.1 in /usr/local/lib/python3.7/dist-packages (from elasticsearch<8.0.0,>=7.0.0->elasticsearch_dsl) (1.24.3)\n",
            "Requirement already satisfied: certifi in /usr/local/lib/python3.7/dist-packages (from elasticsearch<8.0.0,>=7.0.0->elasticsearch_dsl) (2022.9.24)\n",
            "Installing collected packages: elasticsearch-dsl\n",
            "Successfully installed elasticsearch-dsl-7.4.0\n"
          ]
        }
      ],
      "source": [
        "!pip install elasticsearch==7.10.0\n",
        "!pip install elasticsearch_dsl"
      ]
    },
    {
      "cell_type": "code",
      "execution_count": 4,
      "metadata": {
        "colab": {
          "base_uri": "https://localhost:8080/"
        },
        "id": "Syz0wMRRNbZl",
        "outputId": "e136569f-c35a-4248-ed9a-2e11ac1738bf"
      },
      "outputs": [
        {
          "name": "stdout",
          "output_type": "stream",
          "text": [
            "elasticsearch-7.10.0-linux-x86_64.tar.gz: OK\n"
          ]
        }
      ],
      "source": [
        "%%bash\n",
        "\n",
        "wget -q https://artifacts.elastic.co/downloads/elasticsearch/elasticsearch-7.10.0-linux-x86_64.tar.gz\n",
        "wget -q https://artifacts.elastic.co/downloads/elasticsearch/elasticsearch-7.10.0-linux-x86_64.tar.gz.sha512\n",
        "tar -xzf elasticsearch-7.10.0-linux-x86_64.tar.gz\n",
        "sudo chown -R daemon:daemon elasticsearch-7.10.0/\n",
        "shasum -a 512 -c elasticsearch-7.10.0-linux-x86_64.tar.gz.sha512"
      ]
    },
    {
      "cell_type": "markdown",
      "metadata": {
        "id": "M0nUPW8GsOSk"
      },
      "source": [
        "**2. Install an ES plugin for Polish.**\n"
      ]
    },
    {
      "cell_type": "code",
      "execution_count": 5,
      "metadata": {
        "colab": {
          "base_uri": "https://localhost:8080/"
        },
        "id": "vKUR8grQr0lM",
        "outputId": "76acaa36-3dcc-4571-d8cb-c503edbbfc43"
      },
      "outputs": [
        {
          "name": "stdout",
          "output_type": "stream",
          "text": [
            "-> Installing pl.allegro.tech.elasticsearch.plugin:elasticsearch-analysis-morfologik:7.10.0\n",
            "-> Downloading pl.allegro.tech.elasticsearch.plugin:elasticsearch-analysis-morfologik:7.10.0 from maven central\n",
            "\r[                                                 ] 1%   \r[>                                                ] 2%   \r[>                                                ] 3%   \r[=>                                               ] 4%   \r[=>                                               ] 5%   \r[==>                                              ] 6%   \r[==>                                              ] 7%   \r[===>                                             ] 8%   \r[===>                                             ] 9%   \r[====>                                            ] 10%   \r[====>                                            ] 11%   \r[=====>                                           ] 12%   \r[=====>                                           ] 13%   \r[======>                                          ] 14%   \r[======>                                          ] 15%   \r[=======>                                         ] 16%   \r[=======>                                         ] 17%   \r[========>                                        ] 18%   \r[========>                                        ] 19%   \r[=========>                                       ] 20%   \r[=========>                                       ] 21%   \r[==========>                                      ] 22%   \r[==========>                                      ] 23%   \r[===========>                                     ] 24%   \r[===========>                                     ] 25%   \r[============>                                    ] 26%   \r[============>                                    ] 27%   \r[=============>                                   ] 28%   \r[=============>                                   ] 29%   \r[==============>                                  ] 30%   \r[==============>                                  ] 31%   \r[===============>                                 ] 32%   \r[===============>                                 ] 33%   \r[================>                                ] 34%   \r[================>                                ] 35%   \r[=================>                               ] 36%   \r[=================>                               ] 37%   \r[==================>                              ] 38%   \r[==================>                              ] 39%   \r[===================>                             ] 40%   \r[===================>                             ] 41%   \r[====================>                            ] 42%   \r[====================>                            ] 43%   \r[=====================>                           ] 44%   \r[=====================>                           ] 45%   \r[======================>                          ] 46%   \r[======================>                          ] 47%   \r[=======================>                         ] 48%   \r[=======================>                         ] 49%   \r[========================>                        ] 50%   \r[========================>                        ] 51%   \r[=========================>                       ] 52%   \r[=========================>                       ] 53%   \r[==========================>                      ] 54%   \r[==========================>                      ] 55%   \r[===========================>                     ] 56%   \r[===========================>                     ] 57%   \r[============================>                    ] 58%   \r[============================>                    ] 59%   \r[=============================>                   ] 60%   \r[=============================>                   ] 61%   \r[==============================>                  ] 62%   \r[==============================>                  ] 63%   \r[===============================>                 ] 64%   \r[===============================>                 ] 65%   \r[================================>                ] 66%   \r[================================>                ] 67%   \r[=================================>               ] 68%   \r[=================================>               ] 69%   \r[==================================>              ] 70%   \r[==================================>              ] 71%   \r[===================================>             ] 72%   \r[===================================>             ] 73%   \r[====================================>            ] 74%   \r[====================================>            ] 75%   \r[=====================================>           ] 76%   \r[=====================================>           ] 77%   \r[======================================>          ] 78%   \r[======================================>          ] 79%   \r[=======================================>         ] 80%   \r[=======================================>         ] 81%   \r[========================================>        ] 82%   \r[========================================>        ] 83%   \r[=========================================>       ] 84%   \r[=========================================>       ] 85%   \r[==========================================>      ] 86%   \r[==========================================>      ] 87%   \r[===========================================>     ] 88%   \r[===========================================>     ] 89%   \r[============================================>    ] 90%   \r[============================================>    ] 91%   \r[=============================================>   ] 92%   \r[=============================================>   ] 93%   \r[==============================================>  ] 94%   \r[==============================================>  ] 95%   \r[===============================================> ] 96%   \r[===============================================> ] 97%   \r[================================================>] 98%   \r[================================================>] 99%   \r[=================================================] 100%   \n",
            "Warning: sha512 not found, falling back to sha1. This behavior is deprecated and will be removed in a future release. Please update the plugin to use a sha512 checksum.\n",
            "-> Installed analysis-morfologik\n"
          ]
        }
      ],
      "source": [
        "%%bash\n",
        "\n",
        "sudo elasticsearch-7.10.0/bin/elasticsearch-plugin install pl.allegro.tech.elasticsearch.plugin:elasticsearch-analysis-morfologik:7.10.0"
      ]
    },
    {
      "cell_type": "markdown",
      "metadata": {},
      "source": [
        "Let's start ElasticSearch."
      ]
    },
    {
      "cell_type": "code",
      "execution_count": 6,
      "metadata": {
        "id": "66WYujBnNj5J"
      },
      "outputs": [],
      "source": [
        "%%bash --bg\n",
        "\n",
        "sudo -H -u daemon elasticsearch-7.10.0/bin/elasticsearch"
      ]
    },
    {
      "cell_type": "code",
      "execution_count": 8,
      "metadata": {
        "colab": {
          "base_uri": "https://localhost:8080/"
        },
        "id": "cDalSyTMNoge",
        "outputId": "afaba972-737f-4940-c1ee-2c43948f7020"
      },
      "outputs": [
        {
          "name": "stdout",
          "output_type": "stream",
          "text": [
            "{\n",
            "  \"name\" : \"004596a5dbda\",\n",
            "  \"cluster_name\" : \"elasticsearch\",\n",
            "  \"cluster_uuid\" : \"VNi-azCURF-wI5wG9wQrpw\",\n",
            "  \"version\" : {\n",
            "    \"number\" : \"7.10.0\",\n",
            "    \"build_flavor\" : \"default\",\n",
            "    \"build_type\" : \"tar\",\n",
            "    \"build_hash\" : \"51e9d6f22758d0374a0f3f5c6e8f3a7997850f96\",\n",
            "    \"build_date\" : \"2020-11-09T21:30:33.964949Z\",\n",
            "    \"build_snapshot\" : false,\n",
            "    \"lucene_version\" : \"8.7.0\",\n",
            "    \"minimum_wire_compatibility_version\" : \"6.8.0\",\n",
            "    \"minimum_index_compatibility_version\" : \"6.0.0-beta1\"\n",
            "  },\n",
            "  \"tagline\" : \"You Know, for Search\"\n",
            "}\n"
          ]
        }
      ],
      "source": [
        "%%bash\n",
        "\n",
        "curl -sX GET \"localhost:9200/\""
      ]
    },
    {
      "cell_type": "code",
      "execution_count": 9,
      "metadata": {
        "colab": {
          "base_uri": "https://localhost:8080/"
        },
        "id": "ybRreYJqU9yG",
        "outputId": "e913ea0f-c465-47d3-df11-d1d1870e8c5f"
      },
      "outputs": [
        {
          "data": {
            "text/plain": [
              "{'name': '004596a5dbda',\n",
              " 'cluster_name': 'elasticsearch',\n",
              " 'cluster_uuid': 'VNi-azCURF-wI5wG9wQrpw',\n",
              " 'version': {'number': '7.10.0',\n",
              "  'build_flavor': 'default',\n",
              "  'build_type': 'tar',\n",
              "  'build_hash': '51e9d6f22758d0374a0f3f5c6e8f3a7997850f96',\n",
              "  'build_date': '2020-11-09T21:30:33.964949Z',\n",
              "  'build_snapshot': False,\n",
              "  'lucene_version': '8.7.0',\n",
              "  'minimum_wire_compatibility_version': '6.8.0',\n",
              "  'minimum_index_compatibility_version': '6.0.0-beta1'},\n",
              " 'tagline': 'You Know, for Search'}"
            ]
          },
          "execution_count": 9,
          "metadata": {},
          "output_type": "execute_result"
        }
      ],
      "source": [
        "import elasticsearch\n",
        "import elasticsearch_dsl\n",
        "import os\n",
        "import regex as reg\n",
        "\n",
        "es = elasticsearch.Elasticsearch()\n",
        "elasticsearch_dsl.connections.add_connection('python_client', es)\n",
        "es.info()"
      ]
    },
    {
      "cell_type": "markdown",
      "metadata": {
        "id": "pjCEkT9g0qhz"
      },
      "source": [
        "**3. Define an ES analyzer for Polish texts.**"
      ]
    },
    {
      "cell_type": "code",
      "execution_count": 10,
      "metadata": {
        "id": "5GUd-ircVHc5"
      },
      "outputs": [],
      "source": [
        "analyzer = elasticsearch_dsl.analyzer(\n",
        "    'bills_analyzer',\n",
        "    type='custom',\n",
        "    tokenizer='standard',                             # standard tokenizer\n",
        "    filter=[\n",
        "        'lowercase',                                  # lowercase filter\n",
        "        elasticsearch_dsl.analysis.token_filter(      # synonym filter\n",
        "            'synonym_filter', \n",
        "            type='synonym', \n",
        "            synonyms=[\n",
        "                'kpk,kodeks postępowania karnego',\n",
        "                'kpc,kodeks postępowania cywilnego',\n",
        "                'kk,kodeks karny',\n",
        "                'kc,kodeks cywilny',\n",
        "            ],\n",
        "        ),\n",
        "        'morfologik_stem',                          # Morfologik-based lemmatizer\n",
        "    ]\n",
        ")"
      ]
    },
    {
      "cell_type": "code",
      "execution_count": 110,
      "metadata": {
        "colab": {
          "base_uri": "https://localhost:8080/"
        },
        "id": "j29kruazh0dG",
        "outputId": "3c3a6f83-e196-4f21-9078-7a3955377199"
      },
      "outputs": [
        {
          "name": "stdout",
          "output_type": "stream",
          "text": [
            "name         component           version description\n",
            "004596a5dbda analysis-morfologik 7.10.0  Morfologik Polish Lemmatizer plugin for Elasticsearch\n",
            "\n"
          ]
        }
      ],
      "source": [
        "print(es.cat.plugins(params={'v': '', 'h': 'name,component,version,description'}))"
      ]
    },
    {
      "cell_type": "markdown",
      "metadata": {
        "id": "hUf4BHUi1A0X"
      },
      "source": [
        "**4. Define an ES index for storing the contents of the legislative acts.**"
      ]
    },
    {
      "cell_type": "code",
      "execution_count": 11,
      "metadata": {
        "id": "zmzp68WkZEwU"
      },
      "outputs": [],
      "source": [
        "# Wrapper class\n",
        "class Act(elasticsearch_dsl.Document):\n",
        "    # file_name = elasticsearch_dsl.Text()\n",
        "    # year = elasticsearch_dsl.Integer()\n",
        "    content = elasticsearch_dsl.Text(\n",
        "        analyzer=analyzer\n",
        "    )\n",
        "    \n",
        "    class Index:\n",
        "        name = 'acts'"
      ]
    },
    {
      "cell_type": "code",
      "execution_count": 197,
      "metadata": {
        "id": "nwLCMDjWZYbD"
      },
      "outputs": [],
      "source": [
        "# Initialization\n",
        "if Act._index.exists(using=es):\n",
        "    Act._index.delete(using=es)\n",
        "\n",
        "Act.init(using=es)"
      ]
    },
    {
      "cell_type": "markdown",
      "metadata": {
        "id": "sM7jnUoRxuXz"
      },
      "source": [
        "**5. Load the data to the ES index.**"
      ]
    },
    {
      "cell_type": "code",
      "execution_count": 200,
      "metadata": {
        "colab": {
          "base_uri": "https://localhost:8080/"
        },
        "id": "KeDFY7oFkPyq",
        "outputId": "7c31ab94-bdef-492b-ab84-76dcd779945d"
      },
      "outputs": [
        {
          "name": "stderr",
          "output_type": "stream",
          "text": [
            "Indexing acts: 100%|██████████| 1179/1179 [00:44<00:00, 26.46it/s]\n"
          ]
        }
      ],
      "source": [
        "import tqdm\n",
        "from pathlib import Path\n",
        "import requests\n",
        "\n",
        "path = Path('./Acts')\n",
        "n_acts = len(list(path.iterdir()))\n",
        "index_name = \"acts\"\n",
        "es_url = \"http://localhost:9200\"\n",
        "\n",
        "def load_data_to_ES_index(path, n_acts, index_name) -> None:\n",
        "\n",
        "  for act in tqdm.tqdm(path.iterdir(), desc=\"Indexing acts\", total=n_acts):\n",
        "    act_id = act.stem\n",
        "    requests.post(\n",
        "        url=\"{}/{}/_doc/{}\".format(es_url, index_name, act_id),\n",
        "        json={\n",
        "            \"content\": act.read_text(encoding=\"utf8\")\n",
        "        }\n",
        "    )\n",
        "\n",
        "load_data_to_ES_index(path, n_acts, index_name)"
      ]
    },
    {
      "cell_type": "code",
      "execution_count": 201,
      "metadata": {
        "colab": {
          "base_uri": "https://localhost:8080/"
        },
        "id": "yxAMmwjkljMG",
        "outputId": "961b5264-09ca-4da2-947a-b7b664f03e4e"
      },
      "outputs": [
        {
          "name": "stdout",
          "output_type": "stream",
          "text": [
            "True\n"
          ]
        }
      ],
      "source": [
        "def check_correcntess(index_name, es=es, path=path) -> bool:\n",
        "  \"\"\"Checks if the number of documents is equal to the number of files in the corpus\"\"\"\n",
        "\n",
        "  result_es = es.search(index = index_name)['hits']['total']['value']\n",
        "  result_true = len(os.listdir(path))\n",
        "\n",
        "  if result_es == result_true:\n",
        "    return True\n",
        "  else:\n",
        "    return False\n",
        "\n",
        "print(check_correcntess(index_name))"
      ]
    },
    {
      "cell_type": "markdown",
      "metadata": {
        "id": "Jxfm0rda5rV_"
      },
      "source": [
        "**6. Determine the number of legislative acts containing the word ustawa (in any form).**"
      ]
    },
    {
      "cell_type": "code",
      "execution_count": 264,
      "metadata": {
        "colab": {
          "base_uri": "https://localhost:8080/"
        },
        "id": "pVaL1o0lmUZR",
        "outputId": "dc102dfa-7536-4e78-eb52-cbea546c6e5f"
      },
      "outputs": [
        {
          "name": "stdout",
          "output_type": "stream",
          "text": [
            "The number of files containing the word \"ustawa\" is: 1178\n"
          ]
        }
      ],
      "source": [
        "def calculate_number_of_files_with_word(word, index, es = es) -> int:\n",
        "\n",
        "  search = es.search(\n",
        "      index=index, \n",
        "      body={\n",
        "        \"query\": {\n",
        "            \"match_phrase\": {\n",
        "                \"content\": {\n",
        "                    \"query\": word\n",
        "                }\n",
        "            }\n",
        "        }\n",
        "      }\n",
        "  )\n",
        "  return search['hits']['total']['value']\n",
        "\n",
        "print('The number of files containing the word \"ustawa\" is: {}'.format(calculate_number_of_files_with_word('ustawa', 'acts')))"
      ]
    },
    {
      "cell_type": "markdown",
      "metadata": {
        "id": "8tIiddsmHyoq"
      },
      "source": [
        "**7. Determine the number of occurrences of the word ustawa by searching for this particular form, including the other inflectional forms.**"
      ]
    },
    {
      "cell_type": "code",
      "execution_count": 257,
      "metadata": {
        "colab": {
          "base_uri": "https://localhost:8080/"
        },
        "id": "FxCzORHKmwCw",
        "outputId": "dd1c0a43-c2dc-4a0c-8f50-ae279fa619c8"
      },
      "outputs": [
        {
          "data": {
            "text/plain": [
              "24934"
            ]
          },
          "execution_count": 257,
          "metadata": {},
          "output_type": "execute_result"
        }
      ],
      "source": [
        "result_7 = requests.get(\n",
        "    url=\"{}/acts/_termvectors/2004_894\".format(es_url),\n",
        "    json={\n",
        "        \"fields\": [\"content\"],\n",
        "        \"term_statistics\": True\n",
        "    }\n",
        ")\n",
        "\n",
        "result_7.json()['term_vectors']['content']['terms']['ustawa']['ttf']"
      ]
    },
    {
      "cell_type": "markdown",
      "metadata": {
        "id": "G77z_pqK-pFF"
      },
      "source": [
        "**8. Determine the number of occurrences of the word ustaw by searching for this particular form, including the other inflectional forms.**"
      ]
    },
    {
      "cell_type": "code",
      "execution_count": 256,
      "metadata": {
        "colab": {
          "base_uri": "https://localhost:8080/"
        },
        "id": "sjf38oDJ-v4e",
        "outputId": "10f1c3e5-d80a-4dd1-abab-a9778d3b58c1"
      },
      "outputs": [
        {
          "data": {
            "text/plain": [
              "913"
            ]
          },
          "execution_count": 256,
          "metadata": {},
          "output_type": "execute_result"
        }
      ],
      "source": [
        "result_8 = requests.get(\n",
        "    url=f\"{es_url}/acts/_termvectors/2004_894\",\n",
        "    json={\n",
        "        \"fields\": [\"content\"],\n",
        "        \"term_statistics\": True\n",
        "    }\n",
        ")\n",
        "\n",
        "result_8.json()['term_vectors']['content']['terms']['ustawić']['ttf']"
      ]
    },
    {
      "cell_type": "markdown",
      "metadata": {
        "id": "Z6WmpFeWFZoq"
      },
      "source": [
        "**9. Determine the number of legislative acts containing the words kodeks postępowania cywilnego in the specified order, but in any inflection form.**"
      ]
    },
    {
      "cell_type": "code",
      "execution_count": 265,
      "metadata": {
        "colab": {
          "base_uri": "https://localhost:8080/"
        },
        "id": "9Y_gRHaRnbwo",
        "outputId": "7f31a5b6-bbfd-419b-d489-02979cf129e9"
      },
      "outputs": [
        {
          "name": "stdout",
          "output_type": "stream",
          "text": [
            "The number of files containing the word \"kodeks postępowania cywilnego\" is: 99\n"
          ]
        }
      ],
      "source": [
        "result_9 = calculate_number_of_files_with_word('kodeks postępowania cywilnego', 'acts')\n",
        "print('The number of files containing the word \"kodeks postępowania cywilnego\" is: {}'.format(result_9))"
      ]
    },
    {
      "cell_type": "markdown",
      "metadata": {
        "id": "FC2UF1OSHJHo"
      },
      "source": [
        "**10. Determine the number of legislative acts containing the words wchodzi w życie (in any form) allowing for up to 2 additional words in the searched phrase.**"
      ]
    },
    {
      "cell_type": "code",
      "execution_count": 266,
      "metadata": {
        "colab": {
          "base_uri": "https://localhost:8080/"
        },
        "id": "1H2BKFQ9ondh",
        "outputId": "3d7ca724-bcd5-4443-bc4c-973f09c3d990"
      },
      "outputs": [
        {
          "name": "stdout",
          "output_type": "stream",
          "text": [
            "The number of files containing the words \"wchodzi w życie\" is: 1174\n"
          ]
        }
      ],
      "source": [
        "result_10 = es.search(\n",
        "    index=index_name, \n",
        "    body={\n",
        "      \"query\": {\n",
        "          \"match_phrase\": {\n",
        "              \"content\": {\n",
        "                  \"query\": \"wchodzi w życie\",\n",
        "                  \"slop\": 2\n",
        "              }\n",
        "          }\n",
        "      }\n",
        "    }\n",
        ")\n",
        "\n",
        "print('The number of files containing the words \"wchodzi w życie\" is: {}'.format(result_10['hits']['total']['value']))"
      ]
    },
    {
      "cell_type": "markdown",
      "metadata": {
        "id": "Go2igzxXIYiI"
      },
      "source": [
        "**11. Determine the 10 documents that are the most relevant for the phrase konstytucja.**"
      ]
    },
    {
      "cell_type": "code",
      "execution_count": 278,
      "metadata": {
        "colab": {
          "base_uri": "https://localhost:8080/"
        },
        "id": "0TjMa4atozAF",
        "outputId": "a5ca3143-42f4-46bd-931a-6a3dddc24db9"
      },
      "outputs": [
        {
          "data": {
            "text/plain": [
              "[{'_id': '1997_629', '_score': 6.869376},\n",
              " {'_id': '2000_443', '_score': 6.6642833},\n",
              " {'_id': '1997_604', '_score': 6.633483},\n",
              " {'_id': '1996_350', '_score': 6.628302},\n",
              " {'_id': '1997_642', '_score': 6.2530584},\n",
              " {'_id': '2001_23', '_score': 6.0589767},\n",
              " {'_id': '1996_199', '_score': 5.9289904},\n",
              " {'_id': '1999_688', '_score': 5.8507533},\n",
              " {'_id': '2001_1082', '_score': 5.467437},\n",
              " {'_id': '1997_681', '_score': 5.467437}]"
            ]
          },
          "execution_count": 278,
          "metadata": {},
          "output_type": "execute_result"
        }
      ],
      "source": [
        "result_11 = requests.get(\n",
        "    url=\"{}/acts/_search?filter_path=hits.hits._id,hits.hits._score\".format(es_url),\n",
        "    json={\n",
        "        \"query\": {\n",
        "            \"match\": {\n",
        "                \"content\": {\n",
        "                    \"query\": \"konstytucja\"\n",
        "                }\n",
        "            }\n",
        "        },\n",
        "        \"size\": 10\n",
        "    }\n",
        ")\n",
        "\n",
        "result_11.json()['hits']['hits']"
      ]
    },
    {
      "cell_type": "markdown",
      "metadata": {
        "id": "PthxCzcyJ-1R"
      },
      "source": [
        "**12. Print the excerpts containing the word konstytucja (up to three excerpts per document) from the previous task.**"
      ]
    },
    {
      "cell_type": "code",
      "execution_count": 280,
      "metadata": {
        "colab": {
          "base_uri": "https://localhost:8080/"
        },
        "id": "83Cxfm1sKDVc",
        "outputId": "6ac1874d-29d6-46a0-cb31-a94fc32ce25f"
      },
      "outputs": [
        {
          "data": {
            "text/plain": [
              "[{'_id': '1997_629',\n",
              "  'highlight': {'content': ['o zmianie ustawy konstytucyjnej o trybie przygotowania\\n           i uchwalenia <em>Konstytucji</em> Rzeczypospolitej',\n",
              "    'W ustawie  konstytucyjnej z  dnia 23 kwietnia 1992 r. o trybie przygotowania i \\nuchwalenia <em>Konstytucji</em>',\n",
              "    'Do zgłoszenia projektu <em>Konstytucji</em> załącza się wykaz \\n                obywateli popierających zgłoszenie']}},\n",
              " {'_id': '2000_443',\n",
              "  'highlight': {'content': ['umowy międzynarodowej i nie wypełnia przesłanek określonych w art. 89\\n     ust. 1 lub art. 90 <em>Konstytucji</em>',\n",
              "    'międzynarodowej lub załącznika nie\\n     wypełnia przesłanek określonych w art. 89 ust. 1 lub art. 90 <em>Konstytucji</em>',\n",
              "    'co do zasadności wyboru\\n  trybu ratyfikacji umowy międzynarodowej, o którym mowa w art. 89 ust. 2\\n  <em>Konstytucji</em>']}},\n",
              " {'_id': '1997_604',\n",
              "  'highlight': {'content': ['Jeżeli Trybunał Konstytucyjny wyda orzeczenie o sprzeczności celów partii \\n   politycznej z <em>Konstytucją</em>',\n",
              "    'Jeżeli Trybunał Konstytucyjny wyda orzeczenie o sprzeczności z <em>Konstytucją</em>\\n   celów lub działalności',\n",
              "    'Ciężar udowodnienia niezgodności z <em>Konstytucją</em> spoczywa\\n                na wnioskodawcy, który w tym']}},\n",
              " {'_id': '1996_350',\n",
              "  'highlight': {'content': ['Za naruszenie <em>Konstytucji</em> lub ustawy, w związku z zajmowanym\\n              stanowiskiem lub w zakresie',\n",
              "    'W zakresie określonym w art. 107 <em>Konstytucji</em> odpowiedzialność przed\\n           Trybunałem Stanu ponoszą',\n",
              "    'Członkowie Rady Ministrów ponoszą odpowiedzialność przed Trybunałem\\n           Stanu za naruszenie <em>Konstytucji</em>']}},\n",
              " {'_id': '1997_642',\n",
              "  'highlight': {'content': ['wnioskami o:\\n             1) stwierdzenie zgodności ustaw i umów międzynarodowych z\\n               <em>Konstytucją</em>',\n",
              "    'stwierdzenie zgodności przepisów prawa wydawanych przez\\n               centralne organy państwowe, z <em>Konstytucją</em>',\n",
              "    'ratyfikowanymi\\n               umowami międzynarodowymi i ustawami,\\n             4) stwierdzenie zgodności z <em>Konstytucją</em>']}},\n",
              " {'_id': '2001_23',\n",
              "  'highlight': {'content': ['W Dzienniku Ustaw Rzeczypospolitej Polskiej, zwanym dalej \"Dziennikiem\\n  Ustaw\", ogłasza się:\\n   1) <em>Konstytucję</em>',\n",
              "    'akty prawne dotyczące:\\n   1) stanu wojny i zawarcia pokoju,\\n   2) referendum zatwierdzającego zmianę <em>Konstytucji</em>',\n",
              "    'ministra, któremu Sejm wyraził wotum nieufności,\\n     h) powoływania lub odwoływania na określone w <em>Konstytucji</em>']}},\n",
              " {'_id': '1996_199',\n",
              "  'highlight': {'content': ['2c i art. 9-11 ustawy konstytucyjnej z dnia 23 kwietnia \\n1992 r. o trybie przygotowania i uchwalenia <em>Konstytucji</em>',\n",
              "    'Prezydent Rzeczypospolitej Polskiej zarządza poddanie <em>Konstytucji</em> pod referendum\\n   w trybie określonym',\n",
              "    'Przyjęcie w referendum <em>Konstytucji</em> następuje wówczas, gdy opowiedziała \\n   się za nią większość biorących']}},\n",
              " {'_id': '1999_688',\n",
              "  'highlight': {'content': ['postępowania w sprawie wykonywania inicjatywy\\nustawodawczej przez obywateli, o której mowa w art. 118 ust. 2 <em>Konstytucji</em>',\n",
              "    'Projekt ustawy nie może dotyczyć spraw, dla których <em>Konstytucja</em>\\nRzeczypospolitej Polskiej zastrzega wyłączną',\n",
              "    'Projekt ustawy wniesiony do Marszałka Sejmu powinien odpowiadać wymogom\\n  zawartym w <em>Konstytucji</em> i Regulaminie']}},\n",
              " {'_id': '2001_1082',\n",
              "  'highlight': {'content': ['Krajowa Rada Sądownictwa, zwana dalej \"Radą\", realizuje cele określone w\\n  <em>Konstytucji</em> Rzeczypospolitej',\n",
              "    ') podejmuje uchwały w sprawach wystąpienia do Trybunału Konstytucyjnego o\\n     zbadanie zgodności z <em>Konstytucją</em>']}},\n",
              " {'_id': '1997_681',\n",
              "  'highlight': {'content': ['Rzecznik Praw Dziecka, zwany dalej Rzecznikiem, stoi na straży praw dziecka\\n  określonych w <em>Konstytucji</em>',\n",
              "    'uroczyście, że przy wykonywaniu powierzonych mi obowiązków\\n     Rzecznika Praw Dziecka dochowam wierności <em>Konstytucji</em>']}}]"
            ]
          },
          "execution_count": 280,
          "metadata": {},
          "output_type": "execute_result"
        }
      ],
      "source": [
        "result_12 = requests.get(\n",
        "    url=\"{}/acts/_search?filter_path=hits.hits._id,hits.hits.highlight\".format(es_url),\n",
        "    json={\n",
        "        \"query\": {\n",
        "            \"match\": {\n",
        "                \"content\": {\n",
        "                    \"query\": \"konstytucja\"\n",
        "                }\n",
        "            }\n",
        "        },\n",
        "        \"highlight\": {\n",
        "            \"fields\": {\n",
        "                \"content\": {\n",
        "                    \"number_of_fragments\": 3\n",
        "                }\n",
        "            }\n",
        "        },\n",
        "        \"size\": 10\n",
        "    }\n",
        ")\n",
        "\n",
        "result_12.json()['hits']['hits']"
      ]
    }
  ],
  "metadata": {
    "colab": {
      "collapsed_sections": [],
      "provenance": []
    },
    "kernelspec": {
      "display_name": "Python 3.10.6 64-bit",
      "language": "python",
      "name": "python3"
    },
    "language_info": {
      "name": "python",
      "version": "3.10.6"
    },
    "vscode": {
      "interpreter": {
        "hash": "48dbcc2c72bf8d2667201c39bb40034bc4b6c5bee724662a428e26ea68ec9c81"
      }
    }
  },
  "nbformat": 4,
  "nbformat_minor": 0
}
