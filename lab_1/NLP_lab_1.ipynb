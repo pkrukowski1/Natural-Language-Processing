{
 "cells": [
  {
   "cell_type": "markdown",
   "metadata": {},
   "source": [
    "Regular expressions"
   ]
  },
  {
   "cell_type": "markdown",
   "metadata": {},
   "source": [
    "Task 1 + 2"
   ]
  },
  {
   "cell_type": "code",
   "execution_count": 1,
   "metadata": {},
   "outputs": [],
   "source": [
    "\n",
    "import regex as reg\n",
    "import os\n",
    "import matplotlib.pyplot as plt\n",
    "import numpy as np"
   ]
  },
  {
   "cell_type": "code",
   "execution_count": 2,
   "metadata": {},
   "outputs": [
    {
     "data": {
      "text/plain": [
       "[1279, 1281, 7728]"
      ]
     },
     "execution_count": 2,
     "metadata": {},
     "output_type": "execute_result"
    }
   ],
   "source": [
    "def find_amendments(path) -> list:\n",
    "    \"\"\"Function computes the number of additions, removals and changes of a unit in the folder,\n",
    "    which path is provided as an argument\"\"\"\n",
    "\n",
    "    unit_addition_counter = 0\n",
    "    unit_removal_counter = 0\n",
    "    unit_change_counter = 0\n",
    "\n",
    "    # Iterating over files in the directory\n",
    "    for filename in os.listdir(path):\n",
    "\n",
    "        f = os.path.join(path, filename)\n",
    "\n",
    "        if os.path.isfile(f):\n",
    "            with open(f, encoding='utf-8') as file:\n",
    "                file = file.read()\n",
    "\n",
    "                unit_addition_counter += len(reg.findall(r\"\\bdodaje\\ssię\\s(art.|pkt|ust.|lit.)\\b\", file, reg.IGNORECASE))\n",
    "                unit_removal_counter += len(reg.findall(r\"\\b(art.|pkt|ust.|lit.)\\s(\\d+)\\s(skreśla|uchyla)\\ssię\\b\", file, reg.IGNORECASE))\n",
    "                unit_change_counter += len(reg.findall(r\"\\b(art.|pkt|ust.|lit.)\\s(\\d+)\\sotrzymuje\\sbrzmienie\\b\", file, reg.IGNORECASE))\n",
    "    return [\n",
    "                unit_addition_counter,\n",
    "                unit_removal_counter,\n",
    "                unit_change_counter\n",
    "            ]\n",
    "\n",
    "ammendments_list = find_amendments('./ustawy')\n",
    "ammendments_list"
   ]
  },
  {
   "cell_type": "markdown",
   "metadata": {},
   "source": [
    "Task 3"
   ]
  },
  {
   "cell_type": "code",
   "execution_count": 3,
   "metadata": {},
   "outputs": [],
   "source": [
    "# We need to extract years of the bills\n",
    "def get_year_from_text(path, filename) -> str:\n",
    "    \"\"\"Function finds year of the filename (bill) in the a path directory\"\"\"\n",
    "    \n",
    "    f = os.path.join(path, filename)\n",
    "    if os.path.isfile(f):\n",
    "        with open(f, encoding='utf-8') as file:\n",
    "            file = file.read()\n",
    "            pattern = reg.compile(r\"(?<=z\\s+dnia\\s+\\d+\\s+\\w+\\s+)\\d+\", reg.IGNORECASE)\n",
    "            result = pattern.findall(file)\n",
    "\n",
    "            if len(result) > 0:\n",
    "                return result[0]"
   ]
  },
  {
   "cell_type": "code",
   "execution_count": 4,
   "metadata": {},
   "outputs": [
    {
     "data": {
      "text/plain": [
       "[{'1993': 9,\n",
       "  '1994': 17,\n",
       "  '1995': 59,\n",
       "  '1996': 45,\n",
       "  '1997': 71,\n",
       "  '1998': 80,\n",
       "  '1999': 47,\n",
       "  '2000': 159,\n",
       "  '2001': 228,\n",
       "  '2002': 5,\n",
       "  '2003': 51,\n",
       "  '2004': 63,\n",
       "  '2006': 17,\n",
       "  '2007': 79,\n",
       "  '2008': 16,\n",
       "  '2009': 16,\n",
       "  '2010': 11,\n",
       "  '2011': 10,\n",
       "  '2012': 10,\n",
       "  '2013': 51,\n",
       "  '2014': 32,\n",
       "  '2015': 34,\n",
       "  '2016': 15,\n",
       "  '2017': 78,\n",
       "  '2018': 76},\n",
       " {'1993': 15,\n",
       "  '1994': 19,\n",
       "  '1995': 71,\n",
       "  '1996': 85,\n",
       "  '1997': 116,\n",
       "  '1998': 185,\n",
       "  '1999': 50,\n",
       "  '2000': 296,\n",
       "  '2001': 255,\n",
       "  '2002': 5,\n",
       "  '2003': 43,\n",
       "  '2004': 14,\n",
       "  '2006': 11,\n",
       "  '2007': 15,\n",
       "  '2008': 10,\n",
       "  '2009': 6,\n",
       "  '2010': 8,\n",
       "  '2011': 8,\n",
       "  '2012': 11,\n",
       "  '2013': 4,\n",
       "  '2014': 8,\n",
       "  '2015': 6,\n",
       "  '2016': 3,\n",
       "  '2017': 19,\n",
       "  '2018': 18},\n",
       " {'1993': 55,\n",
       "  '1994': 70,\n",
       "  '1995': 318,\n",
       "  '1996': 398,\n",
       "  '1997': 610,\n",
       "  '1998': 762,\n",
       "  '1999': 184,\n",
       "  '2000': 1262,\n",
       "  '2001': 1255,\n",
       "  '2002': 28,\n",
       "  '2003': 472,\n",
       "  '2004': 359,\n",
       "  '2006': 105,\n",
       "  '2007': 438,\n",
       "  '2008': 69,\n",
       "  '2009': 153,\n",
       "  '2010': 109,\n",
       "  '2011': 65,\n",
       "  '2012': 32,\n",
       "  '2013': 148,\n",
       "  '2014': 158,\n",
       "  '2015': 145,\n",
       "  '2016': 58,\n",
       "  '2017': 284,\n",
       "  '2018': 191}]"
      ]
     },
     "execution_count": 4,
     "metadata": {},
     "output_type": "execute_result"
    }
   ],
   "source": [
    "from collections import defaultdict\n",
    "\n",
    "def find_amendments_by_year(path) -> list:\n",
    "    \"\"\"Creation of mapping from a year of a bill to a unique name of the bill\"\"\"\n",
    "    \n",
    "    result_addition_unit = defaultdict(lambda: 0)\n",
    "    result_removal_unit = defaultdict(lambda: 0)\n",
    "    result_change_unit = defaultdict(lambda:0)\n",
    "\n",
    "    # Iterating over files in the directory\n",
    "    for filename in os.listdir(path):\n",
    "        year = get_year_from_text(path, filename)\n",
    "\n",
    "        if year is None:\n",
    "            continue\n",
    "\n",
    "        f = os.path.join(path, filename)\n",
    "\n",
    "        if os.path.isfile(f):\n",
    "            with open(f, encoding='utf-8') as file:\n",
    "                file = file.read()\n",
    "                \n",
    "                result_addition_unit[year] += len(reg.findall(r\"\\bdodaje\\ssię\\s(art.|pkt|ust.|lit.)\\b\", file, reg.IGNORECASE))\n",
    "                result_removal_unit[year] += len(reg.findall(r\"\\b(art.|pkt|ust.|lit.)\\s(\\d+)\\s(skreśla|uchyla)\\ssię\\b\", file, reg.IGNORECASE))\n",
    "                result_change_unit[year] += len(reg.findall(r\"\\b(art.|pkt|ust.|lit.)\\s(\\d+)\\sotrzymuje\\sbrzmienie\\b\", file, reg.IGNORECASE))\n",
    "\n",
    "    # We have to sort dictionaries by keys\n",
    "    result_addition_unit = dict(sorted(result_addition_unit.items(), key=lambda item: item))\n",
    "    result_removal_unit = dict(sorted(result_removal_unit.items(), key=lambda item: item))\n",
    "    result_change_unit = dict(sorted(result_change_unit.items(), key=lambda item: item))\n",
    "\n",
    "\n",
    "    return [\n",
    "                result_addition_unit,\n",
    "                result_removal_unit,\n",
    "                result_change_unit\n",
    "            ]\n",
    "ammendments_list_by_year = find_amendments_by_year(\"./ustawy/\")\n",
    "ammendments_list_by_year"
   ]
  },
  {
   "cell_type": "code",
   "execution_count": 10,
   "metadata": {},
   "outputs": [
    {
     "name": "stderr",
     "output_type": "stream",
     "text": [
      "C:\\Users\\patry\\AppData\\Local\\Temp\\ipykernel_4628\\1836953265.py:9: MatplotlibDeprecationWarning: The seaborn styles shipped by Matplotlib are deprecated since 3.6, as they no longer correspond to the styles shipped by seaborn. However, they will remain available as 'seaborn-v0_8-<style>'. Alternatively, directly use the seaborn API instead.\n",
      "  plt.style.use('seaborn')\n"
     ]
    },
    {
     "data": {
      "text/plain": [
       "([0,\n",
       "  1,\n",
       "  2,\n",
       "  3,\n",
       "  4,\n",
       "  5,\n",
       "  6,\n",
       "  7,\n",
       "  8,\n",
       "  9,\n",
       "  10,\n",
       "  11,\n",
       "  12,\n",
       "  13,\n",
       "  14,\n",
       "  15,\n",
       "  16,\n",
       "  17,\n",
       "  18,\n",
       "  19,\n",
       "  20,\n",
       "  21,\n",
       "  22,\n",
       "  23,\n",
       "  24],\n",
       " [Text(0, 0, '1993'),\n",
       "  Text(1, 0, '1994'),\n",
       "  Text(2, 0, '1995'),\n",
       "  Text(3, 0, '1996'),\n",
       "  Text(4, 0, '1997'),\n",
       "  Text(5, 0, '1998'),\n",
       "  Text(6, 0, '1999'),\n",
       "  Text(7, 0, '2000'),\n",
       "  Text(8, 0, '2001'),\n",
       "  Text(9, 0, '2002'),\n",
       "  Text(10, 0, '2003'),\n",
       "  Text(11, 0, '2004'),\n",
       "  Text(12, 0, '2006'),\n",
       "  Text(13, 0, '2007'),\n",
       "  Text(14, 0, '2008'),\n",
       "  Text(15, 0, '2009'),\n",
       "  Text(16, 0, '2010'),\n",
       "  Text(17, 0, '2011'),\n",
       "  Text(18, 0, '2012'),\n",
       "  Text(19, 0, '2013'),\n",
       "  Text(20, 0, '2014'),\n",
       "  Text(21, 0, '2015'),\n",
       "  Text(22, 0, '2016'),\n",
       "  Text(23, 0, '2017'),\n",
       "  Text(24, 0, '2018')])"
      ]
     },
     "execution_count": 10,
     "metadata": {},
     "output_type": "execute_result"
    },
    {
     "data": {
      "image/png": "[encoded data removed]",
      "text/plain": [
       "<Figure size 864x504 with 1 Axes>"
      ]
     },
     "metadata": {},
     "output_type": "display_data"
    }
   ],
   "source": [
    "years = ammendments_list_by_year[0].keys()\n",
    "percentage_addition = np.array(list(ammendments_list_by_year[0].values())) / ammendments_list[0] * 100\n",
    "percentage_removal = np.array(list(ammendments_list_by_year[1].values())) / ammendments_list[1] * 100\n",
    "percentage_change = np.array(list(ammendments_list_by_year[2].values())) / ammendments_list[2] * 100\n",
    "\n",
    "fig = plt.figure()\n",
    "fig.set_figwidth(12)\n",
    "fig.set_figheight(7)\n",
    "plt.style.use('seaborn')\n",
    "plt.plot(years,percentage_addition, label = 'Addition', marker ='o')\n",
    "plt.plot(years,percentage_removal, label = 'Removal', marker='o')\n",
    "plt.plot(years,percentage_change, label = 'Change', marker = 'o')\n",
    "plt.yticks([10,20,30,40,50,60], ['10%', '20%', '30%', '40%', '50%', '60%'])\n",
    "plt.suptitle('The change in percentage of amendments of a given type in the consecutive years', fontsize=14)\n",
    "plt.xlabel('years', fontsize = 13)\n",
    "plt.ylabel('Percentage', fontsize = 14)\n",
    "plt.legend(fontsize=12)\n",
    "plt.xticks(rotation=90)"
   ]
  },
  {
   "cell_type": "markdown",
   "metadata": {},
   "source": [
    "Task 4"
   ]
  },
  {
   "cell_type": "code",
   "execution_count": 12,
   "metadata": {},
   "outputs": [
    {
     "data": {
      "text/plain": [
       "24934"
      ]
     },
     "execution_count": 12,
     "metadata": {},
     "output_type": "execute_result"
    }
   ],
   "source": [
    "def calculate_ustawa_occurrences(path) -> int:\n",
    "    \n",
    "    word_counter = 0\n",
    "    temp = \"(ustawa|ustawy|ustawie|ustawę|ustawą|ustawie|ustawo|ustaw|ustawom|ustawami|ustawach)\"\n",
    "    \n",
    "    for filename in os.listdir(path):\n",
    "\n",
    "        f = os.path.join(path, filename)\n",
    "\n",
    "        if os.path.isfile(f):\n",
    "            with open(f, encoding='utf-8') as file:\n",
    "                file = file.read()\n",
    "                pattern = reg.compile(r\"\\b{}\\b\".format(temp), reg.IGNORECASE)\n",
    "                word_counter += len(pattern.findall(file))\n",
    "    return word_counter\n",
    "\n",
    "result_4 = calculate_ustawa_occurrences(\"./ustawy\")\n",
    "result_4"
   ]
  },
  {
   "cell_type": "markdown",
   "metadata": {},
   "source": [
    "Task 5"
   ]
  },
  {
   "cell_type": "code",
   "execution_count": 13,
   "metadata": {},
   "outputs": [
    {
     "data": {
      "text/plain": [
       "7516"
      ]
     },
     "execution_count": 13,
     "metadata": {},
     "output_type": "execute_result"
    }
   ],
   "source": [
    "def calculate_word_occurrences_followed_by_z_dnia(path) -> int:\n",
    "\n",
    "    word_counter = 0\n",
    "    temp = \"(ustawa|ustawy|ustawie|ustawę|ustawą|ustawie|ustawo|ustaw|ustawom|ustawami|ustawach)\"\n",
    "\n",
    "    for filename in os.listdir(path):\n",
    "\n",
    "        f = os.path.join(path, filename)\n",
    "\n",
    "        if os.path.isfile(f):\n",
    "            with open(f, encoding='utf-8') as file:\n",
    "                file = file.read()\n",
    "                pattern = reg.compile(r\"\\b{}\\b(?=\\sz\\sdnia)\".format(temp), reg.IGNORECASE)\n",
    "                word_counter += len(pattern.findall(file))\n",
    "    return word_counter\n",
    "\n",
    "result_5 = calculate_word_occurrences_followed_by_z_dnia(\"./ustawy\")\n",
    "result_5"
   ]
  },
  {
   "cell_type": "markdown",
   "metadata": {},
   "source": [
    "Task 6"
   ]
  },
  {
   "cell_type": "code",
   "execution_count": 14,
   "metadata": {},
   "outputs": [
    {
     "data": {
      "text/plain": [
       "17418"
      ]
     },
     "execution_count": 14,
     "metadata": {},
     "output_type": "execute_result"
    }
   ],
   "source": [
    "def calculate_word_occurrences_not_followed_by_z_dnia(path) -> int:\n",
    "\n",
    "    # result = dict()\n",
    "    word_counter = 0\n",
    "    temp = \"(ustawa|ustawy|ustawie|ustawę|ustawą|ustawie|ustawo|ustaw|ustawom|ustawami|ustawach)\"\n",
    "\n",
    "    for filename in os.listdir(path):\n",
    "\n",
    "        f = os.path.join(path, filename)\n",
    "        \n",
    "        if os.path.isfile(f):\n",
    "            with open(f, encoding='utf-8') as file:\n",
    "                file = file.read()\n",
    "                pattern = reg.compile(r\"\\b(?<!\\d){}(?!\\sz\\sdnia)\\b\".format(temp), reg.IGNORECASE)\n",
    "                word_counter += len(pattern.findall(file))\n",
    "    return word_counter\n",
    "\n",
    "result_6 = calculate_word_occurrences_not_followed_by_z_dnia(\"./ustawy\")\n",
    "result_6"
   ]
  },
  {
   "cell_type": "code",
   "execution_count": 15,
   "metadata": {},
   "outputs": [
    {
     "data": {
      "text/plain": [
       "True"
      ]
     },
     "execution_count": 15,
     "metadata": {},
     "output_type": "execute_result"
    }
   ],
   "source": [
    "# Is the result correct?\n",
    "ustawa_inflectional_form_list = [\n",
    "    \"ustawa\",\n",
    "    \"ustawy\",\n",
    "    \"ustawie\",\n",
    "    \"ustawę\",\n",
    "    \"ustawą\",\n",
    "    \"ustawie\",\n",
    "    \"ustawo\",\n",
    "    \"ustaw\",\n",
    "    \"ustawom\",\n",
    "    \"ustawami\",\n",
    "    \"ustawach\"\n",
    "]\n",
    "\n",
    "def is_result_correct(inflectional_form_list, result_4=result_4, result_5=result_5, result_6=result_6) -> bool:\n",
    "    \"\"\"Function checks wheter the result of task 4 is equal to the sum of the results of tasks 5 and 6\"\"\"\n",
    "\n",
    "    if result_4 == result_5 + result_6:\n",
    "        return True\n",
    "    else:\n",
    "        return False\n",
    "    \n",
    "is_result_correct(ustawa_inflectional_form_list)"
   ]
  },
  {
   "cell_type": "markdown",
   "metadata": {},
   "source": [
    "Task 7"
   ]
  },
  {
   "cell_type": "code",
   "execution_count": 16,
   "metadata": {},
   "outputs": [
    {
     "data": {
      "text/plain": [
       "24082"
      ]
     },
     "execution_count": 16,
     "metadata": {},
     "output_type": "execute_result"
    }
   ],
   "source": [
    "def calculate_ustawa_occurrences_and_exclude_o_zmianie_expression(path) -> int:\n",
    "\n",
    "    word_counter = 0\n",
    "\n",
    "    for filename in os.listdir(path):\n",
    "        f = os.path.join(path, filename)\n",
    "        temp_ustawa = \"(ustawa|ustawy|ustawie|ustawę|ustawą|ustawie|ustawo|ustaw|ustawom|ustawami|ustawach)\"\n",
    "        temp_zmiana = \"(zmiana|zmiany|zmianie|zmianę|zmianą|zmianie|zmiano|zmian|zmianom|zmianami|zmianach)\"\n",
    "\n",
    "        if os.path.isfile(f):\n",
    "            with open(f, encoding='utf-8') as file:\n",
    "                file = file.read()\n",
    "                pattern = reg.compile(r\"(?<!o\\s{}\\s)\\b{}\\b\".format(temp_zmiana, temp_ustawa), reg.IGNORECASE)\n",
    "                word_counter += len(pattern.findall(file))\n",
    "    return word_counter\n",
    "\n",
    "result_7 = calculate_ustawa_occurrences_and_exclude_o_zmianie_expression(\"./ustawy\")\n",
    "result_7"
   ]
  },
  {
   "cell_type": "markdown",
   "metadata": {},
   "source": [
    "Task 8"
   ]
  },
  {
   "cell_type": "code",
   "execution_count": 20,
   "metadata": {},
   "outputs": [
    {
     "name": "stderr",
     "output_type": "stream",
     "text": [
      "C:\\Users\\patry\\AppData\\Local\\Temp\\ipykernel_4628\\3958517431.py:5: MatplotlibDeprecationWarning: The seaborn styles shipped by Matplotlib are deprecated since 3.6, as they no longer correspond to the styles shipped by seaborn. However, they will remain available as 'seaborn-v0_8-<style>'. Alternatively, directly use the seaborn API instead.\n",
      "  plt.style.use('seaborn')\n"
     ]
    },
    {
     "data": {
      "text/plain": [
       "<BarContainer object of 4 artists>"
      ]
     },
     "execution_count": 20,
     "metadata": {},
     "output_type": "execute_result"
    },
    {
     "data": {
      "image/png": "[encoded data removed]",
      "text/plain": [
       "<Figure size 720x432 with 1 Axes>"
      ]
     },
     "metadata": {},
     "output_type": "display_data"
    }
   ],
   "source": [
    "# Barplot\n",
    "x_task_8 = np.array([\"Task 4\", \"Task 5\", \"Task 6\", \"Task 7\"])\n",
    "y_task_8 = np.array([result_4, result_5, result_6, result_7])\n",
    "\n",
    "plt.style.use('seaborn')\n",
    "plt.figure(figsize=(10,6))\n",
    "plt.title(\"Results of task no. 4, 5, 6 and 7\", fontsize = 14)\n",
    "plt.bar(x_task_8, y_task_8)"
   ]
  }
 ],
 "metadata": {
  "kernelspec": {
   "display_name": "Python 3.10.6 64-bit",
   "language": "python",
   "name": "python3"
  },
  "language_info": {
   "codemirror_mode": {
    "name": "ipython",
    "version": 3
   },
   "file_extension": ".py",
   "mimetype": "text/x-python",
   "name": "python",
   "nbconvert_exporter": "python",
   "pygments_lexer": "ipython3",
   "version": "3.10.6"
  },
  "orig_nbformat": 4,
  "vscode": {
   "interpreter": {
    "hash": "48dbcc2c72bf8d2667201c39bb40034bc4b6c5bee724662a428e26ea68ec9c81"
   }
  }
 },
 "nbformat": 4,
 "nbformat_minor": 2
}
